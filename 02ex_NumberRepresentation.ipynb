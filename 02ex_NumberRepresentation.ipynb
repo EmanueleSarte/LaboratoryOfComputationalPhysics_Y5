{
 "cells": [
  {
   "cell_type": "markdown",
   "metadata": {},
   "source": [
    "1\\. Write a function that converts number representation, bin<->dec<->hex. (Clearly using the corresponding python built-in functions is not fair..)"
   ]
  },
  {
   "cell_type": "code",
   "execution_count": 22,
   "metadata": {},
   "outputs": [
    {
     "name": "stdout",
     "output_type": "stream",
     "text": [
      "5\n",
      "1101011\n",
      "F1\n",
      "1018\n"
     ]
    }
   ],
   "source": [
    "def bin_to_dec(num):\n",
    "    num = str(num)\n",
    "    out = 0\n",
    "    for i, c in enumerate(num[::-1]):\n",
    "        out += int(c) * 2**i\n",
    "    return str(out)\n",
    "\n",
    "def dec_to_bin(num):\n",
    "    out = \"\"\n",
    "    while True:\n",
    "        out += str(num % 2)\n",
    "        num = num // 2 \n",
    "        if num == 0:\n",
    "            break\n",
    "    return str(out)[::-1]\n",
    "\n",
    "def dec_to_hex(num):\n",
    "    out = \"\"\n",
    "    while True:\n",
    "        rem = num % 16\n",
    "        out += str(rem) if rem < 10 else chr(rem - 10 + 65)\n",
    "        num = num // 16\n",
    "        if num == 0:\n",
    "            break\n",
    "    return str(out)[::-1]\n",
    "\n",
    "def hex_to_dec(num):\n",
    "    out = 0\n",
    "    for i, c in enumerate(num[::-1]):\n",
    "        out +=  16**i * (int(c) if ord(c) < 48 + 9 else ord(c) - 65 + 10)\n",
    "    return str(out)\n",
    "\n",
    "print(bin_to_dec(101))\n",
    "print(dec_to_bin(64 + 32 + 8 + 2 + 1))\n",
    "print(dec_to_hex(241))\n",
    "print(hex_to_dec(\"3FA\"))\n"
   ]
  },
  {
   "cell_type": "markdown",
   "metadata": {},
   "source": [
    "2\\. Write a function that converts a 32 bit word into a single precision floating point (i.e. interprets the various bits as sign, mantissa and exponent)"
   ]
  },
  {
   "cell_type": "code",
   "execution_count": 51,
   "metadata": {},
   "outputs": [
    {
     "name": "stdout",
     "output_type": "stream",
     "text": [
      "-66.630615234375\n",
      "22067200\n"
     ]
    }
   ],
   "source": [
    "#decimal rappr: 66.6306152344\n",
    "#actually stored: 66.630615234375\n",
    "# inp = \"11000010100001010100001011100000\"\n",
    "dec = 3263513312\n",
    "\n",
    "def bin_to_float(bnum):\n",
    "    sign = bnum >> 31\n",
    "    exp = (bnum << 1 ) >> 24 - 127\n",
    "    mant = bnum & 0x7FFFFF\n",
    "    for i in range(23, 0, -q):\n",
    "        value = mant >> 23\n",
    "    return mant * 2 ** exp * sign\n",
    "\n",
    "\n",
    "def str_to_float(num):\n",
    "    mant = 1\n",
    "    for i, c in enumerate(num[9:]):\n",
    "            mant += 2 ** (-(i + 1)) * int(c)\n",
    "\n",
    "    exp = -127\n",
    "    for i, c in enumerate(num[1:9][::-1]):\n",
    "        exp += 2 ** i * int(c)\n",
    "    \n",
    "    value = mant * 2 ** exp * (1 if num[0] == \"0\" else -1)\n",
    "    return value\n",
    "\n",
    "bin_num = bin(dec)[2:]\n",
    "print(str_to_float(bin_num))\n",
    "print(bin_to_float(dec))"
   ]
  },
  {
   "cell_type": "markdown",
   "metadata": {},
   "source": [
    "3\\. Write a program to determine the underflow and overflow limits (within a factor of 2) for python on your computer. \n",
    "\n",
    "**Tips**: define two variables inizialized to 1 and halve/double them enough time to exceed the under/over-flow limits  "
   ]
  },
  {
   "cell_type": "code",
   "execution_count": 11,
   "metadata": {},
   "outputs": [
    {
     "name": "stdout",
     "output_type": "stream",
     "text": [
      "The underflow limit (within a factor of 2 is):  5e-324\n",
      "The overflow limit (within a factor of 2 is):  8.98846567431158e+307\n"
     ]
    }
   ],
   "source": [
    "import math\n",
    "a = 1\n",
    "under = 0\n",
    "while True:\n",
    "    na = a / 2\n",
    "    if na == 0:\n",
    "        under = a\n",
    "        break\n",
    "    a = na\n",
    "print(\"The underflow limit (within a factor of 2 is): \", under)\n",
    "\n",
    "a = 1.0\n",
    "over = 0\n",
    "while True:\n",
    "    na = a * 2\n",
    "    if math.isinf(na):\n",
    "        over = a\n",
    "        break\n",
    "    a = na\n",
    "    \n",
    "print(\"The overflow limit (within a factor of 2 is): \", over)\n"
   ]
  },
  {
   "cell_type": "markdown",
   "metadata": {},
   "source": [
    "4\\. Write a program to determine the machine precision\n",
    "\n",
    "**Tips**: define a new variable by adding a smaller and smaller value (proceeding similarly to prob. 2) to an original variable and check the point where the two are the same "
   ]
  },
  {
   "cell_type": "code",
   "execution_count": 14,
   "metadata": {},
   "outputs": [
    {
     "name": "stdout",
     "output_type": "stream",
     "text": [
      "The machine precision is  1.1102230246251565e-16\n"
     ]
    }
   ],
   "source": [
    "a = 1.0\n",
    "eps = 1.0\n",
    "i = 0\n",
    "while True:\n",
    "    eps = 2 ** i\n",
    "    if a + eps == a:\n",
    "        print(\"The machine precision is \", eps)\n",
    "        break\n",
    "    i -= 1\n"
   ]
  },
  {
   "cell_type": "markdown",
   "metadata": {},
   "source": [
    "5\\. Write a function that takes in input three parameters $a$, $b$ and $c$ and prints out the two solutions to the quadratic equation $ax^2+bx+c=0$ using the standard formula:\n",
    "$$\n",
    "x=\\frac{-b\\pm\\sqrt{b^2-4ac}}{2a}\n",
    "$$\n",
    "\n",
    "(a) use the program to compute the solution for $a=0.001$, $b=1000$ and $c=0.001$\n",
    "\n",
    "(b) re-express the standard solution formula by multiplying top and bottom by $-b\\mp\\sqrt{b^2-4ac}$ and again find the solution for $a=0.001$, $b=1000$ and $c=0.001$. How does it compare with what previously obtained? Why?\n",
    "\n",
    "(c) write a function that compute the roots of a quadratic equation accurately in all cases"
   ]
  },
  {
   "cell_type": "code",
   "execution_count": 38,
   "metadata": {},
   "outputs": [
    {
     "name": "stdout",
     "output_type": "stream",
     "text": [
      "[-1.e+06 -1.e-06]\n",
      "(-9.999894245993346e-07, -999999.999999)\n",
      "(-1.000000000001e-06, -1000010.5755125057)\n",
      "(-0.10208423834364044, -4.89791576165636)\n",
      "(-0.10208423834364024, -4.89791576165635)\n"
     ]
    }
   ],
   "source": [
    "import math\n",
    "import numpy as np\n",
    "\n",
    "#  (sqrt(1e6 - 4e-6) - 1000) / 0.002\n",
    "\n",
    "def solve_quadratic(a, b, c):\n",
    "    det = math.sqrt(b ** 2 - 4 * a * c)\n",
    "    value_p = (-b + det) / (2 * a)\n",
    "    value_n = (-b - det) / (2 * a)\n",
    "    return value_p, value_n\n",
    "\n",
    "def solve_quadratic2(a, b, c):\n",
    "    num = 2 * c\n",
    "    det = math.sqrt(b ** 2 - 4 * a * c)\n",
    "    value_1 = (-b - det)\n",
    "    value_2 = (-b + det)\n",
    "    return num / value_1, num / value_2\n",
    "\n",
    "# do the accurate function\n",
    "\n",
    "print(np.roots([0.001, 1000, 0.001]))\n",
    "\n",
    "print(solve_quadratic(0.001, 1000, 0.001))\n",
    "print(solve_quadratic2(0.001, 1000, 0.001))\n",
    "print(solve_quadratic(2, 10, 1))\n",
    "print(solve_quadratic2(2, 10, 1))"
   ]
  },
  {
   "cell_type": "markdown",
   "metadata": {},
   "source": [
    "6\\. Write a program that implements the function $f(x)=x(x−1)$\n",
    "\n",
    "(a) Calculate the derivative of the function at the point $x = 1$ using the derivative definition:\n",
    "\n",
    "$$\n",
    "\\frac{{\\rm d}f}{{\\rm d}x} = \\lim_{\\delta\\to0} \\frac{f(x+\\delta)-f(x)}{\\delta}\n",
    "$$\n",
    "\n",
    "with $\\delta = 10^{−2}$. Calculate the true value of the same derivative analytically and compare with the answer your program gives. The two will not agree perfectly. Why not?\n",
    "\n",
    "(b) Repeat the calculation for $\\delta = 10^{−4}, 10^{−6}, 10^{−8}, 10^{−10}, 10^{−12}$ and $10^{−14}$. How does the accuracy scales with $\\delta$?"
   ]
  },
  {
   "cell_type": "code",
   "execution_count": 36,
   "metadata": {},
   "outputs": [
    {
     "name": "stdout",
     "output_type": "stream",
     "text": [
      "Il valore analitico vs calcolato:  1 vs 1.010000000000001 eps: 0.01 delta: 0.010000000000000897\n",
      "Il valore analitico vs calcolato:  1 vs 1.0000999999998899 eps: 0.0001 delta: 9.999999988985486e-05\n",
      "Il valore analitico vs calcolato:  1 vs 1.0000009999177333 eps: 1e-06 delta: 9.99917733279787e-07\n",
      "Il valore analitico vs calcolato:  1 vs 1.0000000039225287 eps: 1e-08 delta: 3.922528746258536e-09\n",
      "Il valore analitico vs calcolato:  1 vs 1.000000082840371 eps: 1e-10 delta: 8.284037100736441e-08\n",
      "Il valore analitico vs calcolato:  1 vs 1.0000889005833413 eps: 1e-12 delta: 8.890058334132256e-05\n",
      "Il valore analitico vs calcolato:  1 vs 0.9992007221626509 eps: 1e-14 delta: -0.0007992778373491216\n"
     ]
    }
   ],
   "source": [
    "def func(x):\n",
    "    return x * (x - 1)\n",
    "\n",
    "def true_der(x):\n",
    "    return 2 * x - 1\n",
    "\n",
    "def derivate(func, x0, delta):\n",
    "    return (func(x0 + delta) - func(x0)) / delta\n",
    "\n",
    "for i in range(-2, -16, -2):\n",
    "    x0 = 1\n",
    "    eps = 10 ** i\n",
    "    value1 = derivate(func, x0, eps)\n",
    "    true_val = true_der(x0)\n",
    "    delta = value1 - true_val\n",
    "    print(\"Il valore analitico vs calcolato: \", true_val, \"vs\", value1, \"eps:\", eps, \"delta:\", delta)\n"
   ]
  },
  {
   "cell_type": "markdown",
   "metadata": {},
   "source": [
    "7\\. Consider the integral of the semicircle of radius 1:\n",
    "$$\n",
    "I=\\int_{-1}^{1} \\sqrt(1-x^2) {\\rm d}x\n",
    "$$\n",
    "which it's known to be $I=\\frac{\\pi}{2}=1.57079632679...$.\n",
    "Alternatively we can use the Riemann definition of the integral:\n",
    "$$\n",
    "I=\\lim_{N\\to\\infty} \\sum_{k=1}^{N} h y_k \n",
    "$$\n",
    "\n",
    "with $h=2/N$ the width of each of the $N$ slices the domain is divided into and where\n",
    "$y_k$ is the value of the function at the $k$-$th$ slice.\n",
    "\n",
    "(a) Write a programe to compute the integral with $N=100$. How does the result compares to the true value?\n",
    "\n",
    "(b) How much can $N$ be increased if the computation needs to be run in less than a second? What is the gain in running it for 1 minute? \n"
   ]
  },
  {
   "cell_type": "code",
   "execution_count": 47,
   "metadata": {},
   "outputs": [
    {
     "name": "stdout",
     "output_type": "stream",
     "text": [
      "1.5707963267423612 4.763878180824577e-11\n"
     ]
    }
   ],
   "source": [
    "import math\n",
    "def func(x):\n",
    "    return math.sqrt(1 - x**2)\n",
    "\n",
    "def riemann_sum(func, n, x1, x2):\n",
    "    h = (x2 - x1) / n\n",
    "    sum = 0\n",
    "    for i in range(n):\n",
    "        sum += h * func(x1 + h * i)\n",
    "    return sum\n",
    "\n",
    "true_val = 1.57079632679\n",
    "value = riemann_sum(func, 10000000, -1, 1)\n",
    "print(value, true_val - value)"
   ]
  }
 ],
 "metadata": {
  "kernelspec": {
   "display_name": "Python 3.8.10 ('.venv': venv)",
   "language": "python",
   "name": "python3"
  },
  "language_info": {
   "codemirror_mode": {
    "name": "ipython",
    "version": 3
   },
   "file_extension": ".py",
   "mimetype": "text/x-python",
   "name": "python",
   "nbconvert_exporter": "python",
   "pygments_lexer": "ipython3",
   "version": "3.8.10"
  },
  "vscode": {
   "interpreter": {
    "hash": "e61f246dace7e11cf3c4f441d5ee4d38d78fe61b42971b99285194547821d01b"
   }
  }
 },
 "nbformat": 4,
 "nbformat_minor": 2
}
